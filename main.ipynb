{
 "cells": [
  {
   "cell_type": "code",
   "execution_count": null,
   "metadata": {},
   "outputs": [],
   "source": [
    "! pip install -r requirements.txt"
   ]
  },
  {
   "cell_type": "code",
   "execution_count": null,
   "metadata": {},
   "outputs": [],
   "source": [
    "from prettymapp.geo import get_aoi\n",
    "from prettymapp.osm import get_osm_geometries\n",
    "from prettymapp.plotting import Plot\n",
    "from prettymapp.settings import STYLES\n",
    "\n",
    "\n",
    "# read locations from locations.json\n",
    "import json\n",
    "\n",
    "with open(\"locations.json\", \"r\") as f:\n",
    "    data = json.load(f)\n",
    "\n",
    "    locations = data[\"locations\"]\n",
    "\n",
    "\n",
    "for location in locations:\n",
    "    print(location[\"name\"])\n",
    "\n",
    "    aoi = get_aoi(address=location[\"address\"], radius=location[\"radius\"], rectangular=False)\n",
    "    df = get_osm_geometries(aoi=aoi)\n",
    "\n",
    "    fig = Plot(\n",
    "        df=df,\n",
    "        aoi_bounds=aoi.bounds,\n",
    "        draw_settings=STYLES[\"Peach\"]\n",
    "    ).plot_all()\n",
    "\n",
    "    fig.savefig(f\"{location['name']}.jpg\")"
   ]
  }
 ],
 "metadata": {
  "kernelspec": {
   "display_name": "Python 3",
   "language": "python",
   "name": "python3"
  },
  "language_info": {
   "codemirror_mode": {
    "name": "ipython",
    "version": 3
   },
   "file_extension": ".py",
   "mimetype": "text/x-python",
   "name": "python",
   "nbconvert_exporter": "python",
   "pygments_lexer": "ipython3",
   "version": "3.10.13"
  }
 },
 "nbformat": 4,
 "nbformat_minor": 2
}
